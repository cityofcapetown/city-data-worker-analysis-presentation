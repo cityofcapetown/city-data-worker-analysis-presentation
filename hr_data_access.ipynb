{
 "cells": [
  {
   "cell_type": "markdown",
   "metadata": {},
   "source": [
    "# HR IPM Data"
   ]
  },
  {
   "cell_type": "markdown",
   "metadata": {},
   "source": [
    "This notebook describes how the HR data is downloaded, and transformed into a form suitable for further analysis.\n",
    "\n",
    "There is also a little light characterisation, in terms of some of the major feature fields."
   ]
  },
  {
   "cell_type": "markdown",
   "metadata": {},
   "source": [
    "## Setup"
   ]
  },
  {
   "cell_type": "code",
   "execution_count": null,
   "metadata": {},
   "outputs": [],
   "source": [
    "import pandas\n",
    "from bokeh.layouts import gridplot\n",
    "from bokeh.plotting import figure, output_file, show, output_notebook\n",
    "from bokeh.palettes import Category20"
   ]
  },
  {
   "cell_type": "code",
   "execution_count": null,
   "metadata": {},
   "outputs": [],
   "source": [
    "output_notebook()"
   ]
  },
  {
   "cell_type": "code",
   "execution_count": null,
   "metadata": {},
   "outputs": [],
   "source": [
    "import json"
   ]
  },
  {
   "cell_type": "code",
   "execution_count": null,
   "metadata": {},
   "outputs": [],
   "source": [
    "secrets = json.load(open(\"./secrets/secrets.json\"))"
   ]
  },
  {
   "cell_type": "code",
   "execution_count": null,
   "metadata": {},
   "outputs": [],
   "source": [
    "from db_utils import minio_utils"
   ]
  },
  {
   "cell_type": "markdown",
   "metadata": {},
   "source": [
    "## Downloading Datafiles\n",
    "Datafile has been provided as Excel spreadsheet, placed in our Edge Minio. Need to download, and put into the `tempdata` directory."
   ]
  },
  {
   "cell_type": "code",
   "execution_count": null,
   "metadata": {},
   "outputs": [],
   "source": [
    "minio_utils.minio_to_file(\n",
    "    \"tempdata/Full KPA File.xlsx\",\n",
    "    minio_bucket=\"writeonly\",\n",
    "    minio_key=secrets[\"minio\"][\"edge\"][\"access\"],\n",
    "    minio_secret=secrets[\"minio\"][\"edge\"][\"secret\"],\n",
    "    data_classification=minio_utils.DataClassification.EDGE\n",
    ")"
   ]
  },
  {
   "cell_type": "code",
   "execution_count": null,
   "metadata": {},
   "outputs": [],
   "source": [
    "minio_utils.minio_to_file(\n",
    "    \"tempdata/data_influencer_list.txt\",\n",
    "    minio_bucket=\"writeonly\",\n",
    "    minio_key=secrets[\"minio\"][\"edge\"][\"access\"],\n",
    "    minio_secret=secrets[\"minio\"][\"edge\"][\"secret\"],\n",
    "    data_classification=minio_utils.DataClassification.EDGE\n",
    ")"
   ]
  },
  {
   "cell_type": "code",
   "execution_count": null,
   "metadata": {},
   "outputs": [],
   "source": [
    "data_strategy_team_members_df = minio_utils.minio_to_dataframe(\n",
    "    \"data-strategy-team-members\",\n",
    "    minio_key=secrets[\"minio\"][\"edge\"][\"access\"],\n",
    "    minio_secret=secrets[\"minio\"][\"edge\"][\"secret\"],\n",
    "    data_classification=minio_utils.DataClassification.EDGE\n",
    ")"
   ]
  },
  {
   "cell_type": "code",
   "execution_count": null,
   "metadata": {},
   "outputs": [],
   "source": [
    "data_strategy_dcc_members_df = minio_utils.minio_to_dataframe(\n",
    "    \"data-strategy-dcc-members\",\n",
    "    minio_key=secrets[\"minio\"][\"edge\"][\"access\"],\n",
    "    minio_secret=secrets[\"minio\"][\"edge\"][\"secret\"],\n",
    "    data_classification=minio_utils.DataClassification.EDGE\n",
    ")"
   ]
  },
  {
   "cell_type": "code",
   "execution_count": null,
   "metadata": {},
   "outputs": [],
   "source": [
    "data_strategy_dcc_members_df.sample(10)"
   ]
  },
  {
   "cell_type": "markdown",
   "metadata": {},
   "source": [
    "## Constructing list of Data Strategy Associated Names"
   ]
  },
  {
   "cell_type": "code",
   "execution_count": null,
   "metadata": {},
   "outputs": [],
   "source": [
    "with open('tempdata/data_influencer_list.txt') as data_influencer_file:\n",
    "    data_influencer_list = data_influencer_file.read().split(\"\\n\")\n",
    "    \n",
    "data_influencer_lower_list = pandas.Series(\n",
    "    map(lambda x: x.lower(), data_influencer_list)\n",
    ")"
   ]
  },
  {
   "cell_type": "code",
   "execution_count": null,
   "metadata": {},
   "outputs": [],
   "source": [
    "data_strategy_affliated = pandas.DataFrame(\n",
    "    data_influencer_lower_list.append([\n",
    "        data_strategy_team_members_df.Name.str.lower(),\n",
    "        data_strategy_dcc_members_df.Name.str.lower()\n",
    "    ]).unique(),\n",
    "    columns=(\"Name\",)\n",
    ")"
   ]
  },
  {
   "cell_type": "code",
   "execution_count": null,
   "metadata": {},
   "outputs": [],
   "source": [
    "minio_utils.dataframe_to_minio(\n",
    "    data_strategy_affliated,\n",
    "    minio_bucket=\"data-strategy-affliated\",\n",
    "    minio_key=secrets[\"minio\"][\"confidential\"][\"access\"],\n",
    "    minio_secret=secrets[\"minio\"][\"confidential\"][\"secret\"],\n",
    "    data_classification=minio_utils.DataClassification.CONFIDENTIAL,\n",
    "    file_format=\"pickle.gz\"\n",
    ")"
   ]
  },
  {
   "cell_type": "markdown",
   "metadata": {},
   "source": [
    "## Converting HR Data to Dataframe and uploading"
   ]
  },
  {
   "cell_type": "code",
   "execution_count": null,
   "metadata": {},
   "outputs": [],
   "source": [
    "kpa_df = pandas.read_excel('./tempdata/Full KPA File.xlsx')"
   ]
  },
  {
   "cell_type": "markdown",
   "metadata": {},
   "source": [
    "### Data Munging"
   ]
  },
  {
   "cell_type": "code",
   "execution_count": null,
   "metadata": {},
   "outputs": [],
   "source": [
    "print(kpa_df.iloc[1].values)"
   ]
  },
  {
   "cell_type": "markdown",
   "metadata": {},
   "source": [
    "Removing some unnecessary rows at beginning of spreadsheet:"
   ]
  },
  {
   "cell_type": "code",
   "execution_count": null,
   "metadata": {},
   "outputs": [],
   "source": [
    "formatted_kpa_df = kpa_df.drop(\n",
    "    kpa_df.iloc[:2].index\n",
    ")"
   ]
  },
  {
   "cell_type": "markdown",
   "metadata": {},
   "source": [
    "Setting column names, without spaces:"
   ]
  },
  {
   "cell_type": "code",
   "execution_count": null,
   "metadata": {},
   "outputs": [],
   "source": [
    "formatted_kpa_df.columns = (\n",
    "    'Directorate',\n",
    "    'Department',\n",
    "    'EmployeeNumber',\n",
    "    'EmployeeName',\n",
    "    'PositionNumber',\n",
    "    'PositionName',\n",
    "    'PayScaleGroup',\n",
    "    'Template',\n",
    "    'CriteriaGroup',\n",
    "    'Criterion',\n",
    "    'Row',\n",
    "    'AppraisalScoreWeight'\n",
    ")"
   ]
  },
  {
   "cell_type": "markdown",
   "metadata": {},
   "source": [
    "In the `Row` field, often spaces are inserted between L and the number, e.g. `L 1`. Removing those spaces:"
   ]
  },
  {
   "cell_type": "code",
   "execution_count": null,
   "metadata": {},
   "outputs": [],
   "source": [
    "formatted_kpa_df.Row = formatted_kpa_df.Row.str.replace(r'L\\s*(?P<level>\\d+)', \n",
    "                                                        lambda m: 'L' + m.group('level'))"
   ]
  },
  {
   "cell_type": "markdown",
   "metadata": {},
   "source": [
    "Extracting the T Level into a separate, standalone field:"
   ]
  },
  {
   "cell_type": "code",
   "execution_count": null,
   "metadata": {},
   "outputs": [],
   "source": [
    "formatted_kpa_df['TLevel'] = formatted_kpa_df.PayScaleGroup.str.extract(r'T(\\d+).*').astype(float)"
   ]
  },
  {
   "cell_type": "markdown",
   "metadata": {},
   "source": [
    "### Uploading"
   ]
  },
  {
   "cell_type": "code",
   "execution_count": null,
   "metadata": {},
   "outputs": [],
   "source": [
    "minio_utils.dataframe_to_minio(\n",
    "    formatted_kpa_df,\n",
    "    minio_bucket=\"hr-ipm-data\",\n",
    "    minio_key=secrets[\"minio\"][\"confidential\"][\"access\"],\n",
    "    minio_secret=secrets[\"minio\"][\"confidential\"][\"secret\"],\n",
    "    data_classification=minio_utils.DataClassification.CONFIDENTIAL,\n",
    "    file_format=\"pickle.gz\"\n",
    ")"
   ]
  },
  {
   "cell_type": "markdown",
   "metadata": {},
   "source": [
    "## HR Data Characterisation"
   ]
  },
  {
   "cell_type": "markdown",
   "metadata": {},
   "source": [
    "### Tabular Form"
   ]
  },
  {
   "cell_type": "code",
   "execution_count": null,
   "metadata": {},
   "outputs": [],
   "source": [
    "formatted_kpa_df.groupby(['Directorate', 'Department', 'PositionName']).PositionNumber.nunique().to_frame().reset_index().sort_values(\n",
    "    by=['Directorate', 'Department', 'PositionNumber'],\n",
    "    ascending=False\n",
    ").to_html('./report/hr_data_summary_table.html', index=False)"
   ]
  },
  {
   "cell_type": "markdown",
   "metadata": {},
   "source": [
    "### Plotting"
   ]
  },
  {
   "cell_type": "code",
   "execution_count": null,
   "metadata": {},
   "outputs": [],
   "source": [
    "directorate_counts = formatted_kpa_df.groupby(['Directorate']).EmployeeNumber.nunique().sort_values(ascending=False)"
   ]
  },
  {
   "cell_type": "code",
   "execution_count": null,
   "metadata": {},
   "outputs": [],
   "source": [
    "department_counts = formatted_kpa_df.groupby(['Department']).EmployeeNumber.nunique().sort_values(ascending=False)"
   ]
  },
  {
   "cell_type": "code",
   "execution_count": null,
   "metadata": {},
   "outputs": [],
   "source": [
    "tlevel_counts = formatted_kpa_df.groupby(['TLevel']).EmployeeNumber.nunique()#.sort_values(ascending=False)"
   ]
  },
  {
   "cell_type": "code",
   "execution_count": null,
   "metadata": {},
   "outputs": [],
   "source": [
    "position_counts = formatted_kpa_df.groupby(['PositionName']).EmployeeNumber.nunique().sort_values(ascending=False)"
   ]
  },
  {
   "cell_type": "code",
   "execution_count": null,
   "metadata": {},
   "outputs": [],
   "source": [
    "output_file(\"report/hr_data_summary.html\", mode=\"cdn\")\n",
    "\n",
    "TOOLS = [\"save\"]\n",
    "\n",
    "# Directorate Plot\n",
    "directorate_figure = figure(width=400, plot_height=600, title=\"Directorate Breakdown\", x_range=directorate_counts.index.values, tools=TOOLS)\n",
    "directorate_figure.vbar(\n",
    "    directorate_counts.index.values, top=directorate_counts.values, \n",
    "    width=0.9, color=Category20[len(directorate_counts.values)]\n",
    ")\n",
    "directorate_figure.xaxis.major_label_orientation = \"vertical\"\n",
    "directorate_figure.xaxis.axis_label = \"Directorate\"\n",
    "\n",
    "# Department Plot\n",
    "depts = 15\n",
    "department_figure = figure(width=400, plot_height=600, title=f\"Department Breakdown (top {depts})\", tools=TOOLS, \n",
    "                           x_range=department_counts.index.values[:depts])\n",
    "department_figure.vbar(\n",
    "    department_counts.index.values[:depts], top=department_counts.values[:depts], \n",
    "    width=0.9, color=Category20[depts]\n",
    ")\n",
    "department_figure.xaxis.major_label_orientation = \"vertical\"\n",
    "department_figure.xaxis.axis_label = \"Department\"\n",
    "\n",
    "# TLevel Plot\n",
    "tlevel_figure = figure(width=400, plot_height=600, title=f\"T-Level Breakdown\", x_range=list(map(str,tlevel_counts.index.values[:])), tools=TOOLS)\n",
    "tlevel_figure.vbar(\n",
    "    list(map(str,tlevel_counts.index.values[:])), top=tlevel_counts.values[:], \n",
    "    width=0.9, color=Category20[len(tlevel_counts)]\n",
    ")\n",
    "tlevel_figure.xaxis.major_label_orientation = \"vertical\"\n",
    "tlevel_figure.xaxis.axis_label = \"T-Level\"\n",
    "\n",
    "# Position Plot\n",
    "positions = 15\n",
    "positions_figure = figure(width=400, plot_height=600, \n",
    "                          title=f\"Position Breakdown (top {positions})\", x_range=position_counts.index.values[:positions], tools=TOOLS,\n",
    "                         )\n",
    "positions_figure.vbar(\n",
    "    position_counts.index.values[:positions], top=position_counts.values[:positions], \n",
    "    width=0.9, color=Category20[depts]\n",
    ")\n",
    "positions_figure.xaxis.major_label_orientation = \"vertical\"\n",
    "positions_figure.xaxis.axis_label = \"Position Names\"\n",
    "\n",
    "# show the results\n",
    "show(gridplot([\n",
    "    [tlevel_figure, positions_figure],\n",
    "    [directorate_figure, department_figure],\n",
    "]))"
   ]
  },
  {
   "cell_type": "code",
   "execution_count": null,
   "metadata": {},
   "outputs": [],
   "source": []
  }
 ],
 "metadata": {
  "kernelspec": {
   "display_name": "Python 3",
   "language": "python",
   "name": "python3"
  },
  "language_info": {
   "codemirror_mode": {
    "name": "ipython",
    "version": 3
   },
   "file_extension": ".py",
   "mimetype": "text/x-python",
   "name": "python",
   "nbconvert_exporter": "python",
   "pygments_lexer": "ipython3",
   "version": "3.6.8"
  }
 },
 "nbformat": 4,
 "nbformat_minor": 4
}
