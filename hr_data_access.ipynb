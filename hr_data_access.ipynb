{
 "cells": [
  {
   "cell_type": "markdown",
   "metadata": {},
   "source": [
    "# HR IPM Data"
   ]
  },
  {
   "cell_type": "markdown",
   "metadata": {},
   "source": [
    "This notebook describes how the HR data is downloaded, and transformed into a form suitable for further analysis.\n",
    "\n",
    "There is also a little light characterisation, in terms of some of the major feature fields."
   ]
  },
  {
   "cell_type": "markdown",
   "metadata": {},
   "source": [
    "## Setup"
   ]
  },
  {
   "cell_type": "code",
   "execution_count": null,
   "metadata": {},
   "outputs": [],
   "source": [
    "import pandas\n",
    "from bokeh.layouts import gridplot\n",
    "from bokeh.plotting import figure, output_file, show, output_notebook\n",
    "from bokeh.palettes import Category20, Category20b"
   ]
  },
  {
   "cell_type": "code",
   "execution_count": null,
   "metadata": {},
   "outputs": [],
   "source": [
    "output_notebook()"
   ]
  },
  {
   "cell_type": "code",
   "execution_count": null,
   "metadata": {},
   "outputs": [],
   "source": [
    "import json"
   ]
  },
  {
   "cell_type": "code",
   "execution_count": null,
   "metadata": {},
   "outputs": [],
   "source": [
    "secrets = json.load(open(\"./secrets/secrets.json\"))"
   ]
  },
  {
   "cell_type": "code",
   "execution_count": null,
   "metadata": {},
   "outputs": [],
   "source": [
    "from db_utils import minio_utils"
   ]
  },
  {
   "cell_type": "markdown",
   "metadata": {},
   "source": [
    "## Downloading Datafiles\n",
    "Datafile has been provided as Excel spreadsheet, placed in our Edge Minio. Need to download, and put into the `tempdata` directory."
   ]
  },
  {
   "cell_type": "code",
   "execution_count": null,
   "metadata": {},
   "outputs": [],
   "source": [
    "minio_utils.minio_to_file(\n",
    "    \"tempdata/Full KPA File.xlsx\",\n",
    "    minio_bucket=\"writeonly\",\n",
    "    minio_key=secrets[\"minio\"][\"edge\"][\"access\"],\n",
    "    minio_secret=secrets[\"minio\"][\"edge\"][\"secret\"],\n",
    "    data_classification=minio_utils.DataClassification.EDGE\n",
    ")"
   ]
  },
  {
   "cell_type": "code",
   "execution_count": null,
   "metadata": {},
   "outputs": [],
   "source": [
    "minio_utils.minio_to_file(\n",
    "    \"tempdata/data_influencer_list.txt\",\n",
    "    minio_bucket=\"writeonly\",\n",
    "    minio_key=secrets[\"minio\"][\"edge\"][\"access\"],\n",
    "    minio_secret=secrets[\"minio\"][\"edge\"][\"secret\"],\n",
    "    data_classification=minio_utils.DataClassification.EDGE\n",
    ")"
   ]
  },
  {
   "cell_type": "code",
   "execution_count": null,
   "metadata": {},
   "outputs": [],
   "source": [
    "data_strategy_team_members_df = minio_utils.minio_to_dataframe(\n",
    "    \"data-strategy-team-members\",\n",
    "    minio_key=secrets[\"minio\"][\"edge\"][\"access\"],\n",
    "    minio_secret=secrets[\"minio\"][\"edge\"][\"secret\"],\n",
    "    data_classification=minio_utils.DataClassification.EDGE\n",
    ")"
   ]
  },
  {
   "cell_type": "code",
   "execution_count": null,
   "metadata": {},
   "outputs": [],
   "source": [
    "data_strategy_dcc_members_df = minio_utils.minio_to_dataframe(\n",
    "    \"data-strategy-dcc-members\",\n",
    "    minio_key=secrets[\"minio\"][\"edge\"][\"access\"],\n",
    "    minio_secret=secrets[\"minio\"][\"edge\"][\"secret\"],\n",
    "    data_classification=minio_utils.DataClassification.EDGE\n",
    ")"
   ]
  },
  {
   "cell_type": "code",
   "execution_count": null,
   "metadata": {},
   "outputs": [],
   "source": [
    "data_strategy_dcc_members_df.sample(10)"
   ]
  },
  {
   "cell_type": "markdown",
   "metadata": {},
   "source": [
    "## Constructing list of Data Strategy Associated Names"
   ]
  },
  {
   "cell_type": "code",
   "execution_count": null,
   "metadata": {},
   "outputs": [],
   "source": [
    "with open('tempdata/data_influencer_list.txt') as data_influencer_file:\n",
    "    data_influencer_list = data_influencer_file.read().split(\"\\n\")\n",
    "    \n",
    "data_influencer_lower_list = pandas.Series(\n",
    "    map(lambda x: x.lower(), data_influencer_list)\n",
    ")"
   ]
  },
  {
   "cell_type": "code",
   "execution_count": null,
   "metadata": {},
   "outputs": [],
   "source": [
    "data_strategy_affliated = pandas.DataFrame(\n",
    "    data_influencer_lower_list.append([\n",
    "        data_strategy_team_members_df.Name.str.lower(),\n",
    "        data_strategy_dcc_members_df.Name.str.lower()\n",
    "    ]).unique(),\n",
    "    columns=(\"Name\",)\n",
    ")"
   ]
  },
  {
   "cell_type": "code",
   "execution_count": null,
   "metadata": {},
   "outputs": [],
   "source": [
    "minio_utils.dataframe_to_minio(\n",
    "    data_strategy_affliated,\n",
    "    minio_bucket=\"data-strategy-affliated\",\n",
    "    minio_key=secrets[\"minio\"][\"confidential\"][\"access\"],\n",
    "    minio_secret=secrets[\"minio\"][\"confidential\"][\"secret\"],\n",
    "    data_classification=minio_utils.DataClassification.CONFIDENTIAL,\n",
    "    file_format=\"pickle.gz\"\n",
    ")"
   ]
  },
  {
   "cell_type": "markdown",
   "metadata": {},
   "source": [
    "## Converting HR Data to Dataframe and uploading"
   ]
  },
  {
   "cell_type": "code",
   "execution_count": null,
   "metadata": {},
   "outputs": [],
   "source": [
    "kpa_df = pandas.read_excel('./tempdata/Full KPA File.xlsx')"
   ]
  },
  {
   "cell_type": "markdown",
   "metadata": {},
   "source": [
    "### Data Munging"
   ]
  },
  {
   "cell_type": "code",
   "execution_count": null,
   "metadata": {},
   "outputs": [],
   "source": [
    "print(kpa_df.iloc[1].values)"
   ]
  },
  {
   "cell_type": "markdown",
   "metadata": {},
   "source": [
    "Removing some unnecessary rows at beginning of spreadsheet:"
   ]
  },
  {
   "cell_type": "code",
   "execution_count": null,
   "metadata": {},
   "outputs": [],
   "source": [
    "formatted_kpa_df = kpa_df.drop(\n",
    "    kpa_df.iloc[:2].index\n",
    ")"
   ]
  },
  {
   "cell_type": "markdown",
   "metadata": {},
   "source": [
    "Setting column names, without spaces:"
   ]
  },
  {
   "cell_type": "code",
   "execution_count": null,
   "metadata": {},
   "outputs": [],
   "source": [
    "formatted_kpa_df.columns = (\n",
    "    'Directorate',\n",
    "    'Department',\n",
    "    'EmployeeNumber',\n",
    "    'EmployeeName',\n",
    "    'PositionNumber',\n",
    "    'PositionName',\n",
    "    'PayScaleGroup',\n",
    "    'Template',\n",
    "    'CriteriaGroup',\n",
    "    'Criterion',\n",
    "    'Row',\n",
    "    'AppraisalScoreWeight'\n",
    ")"
   ]
  },
  {
   "cell_type": "markdown",
   "metadata": {},
   "source": [
    "In the `Row` field, often spaces are inserted between L and the number, e.g. `L 1`. Removing those spaces:"
   ]
  },
  {
   "cell_type": "code",
   "execution_count": null,
   "metadata": {},
   "outputs": [],
   "source": [
    "formatted_kpa_df.Row = formatted_kpa_df.Row.str.replace(r'L\\s*(?P<level>\\d+)', \n",
    "                                                        lambda m: 'L' + m.group('level'))"
   ]
  },
  {
   "cell_type": "markdown",
   "metadata": {},
   "source": [
    "Extracting the T Level into a separate, standalone field:"
   ]
  },
  {
   "cell_type": "code",
   "execution_count": null,
   "metadata": {},
   "outputs": [],
   "source": [
    "formatted_kpa_df['TLevel'] = formatted_kpa_df.PayScaleGroup.str.extract(r'T(\\d+).*').astype(float)"
   ]
  },
  {
   "cell_type": "markdown",
   "metadata": {},
   "source": [
    "### Uploading"
   ]
  },
  {
   "cell_type": "code",
   "execution_count": null,
   "metadata": {},
   "outputs": [],
   "source": [
    "minio_utils.dataframe_to_minio(\n",
    "    formatted_kpa_df,\n",
    "    minio_bucket=\"hr-ipm-data\",\n",
    "    minio_key=secrets[\"minio\"][\"confidential\"][\"access\"],\n",
    "    minio_secret=secrets[\"minio\"][\"confidential\"][\"secret\"],\n",
    "    data_classification=minio_utils.DataClassification.CONFIDENTIAL,\n",
    "    file_format=\"pickle.gz\"\n",
    ")"
   ]
  },
  {
   "cell_type": "markdown",
   "metadata": {},
   "source": [
    "## HR Data Characterisation"
   ]
  },
  {
   "cell_type": "markdown",
   "metadata": {},
   "source": [
    "Making sure we're on the same page:"
   ]
  },
  {
   "cell_type": "code",
   "execution_count": null,
   "metadata": {},
   "outputs": [],
   "source": [
    "formatted_kpa_df = minio_utils.minio_to_dataframe(\n",
    "    minio_bucket=\"hr-ipm-data\",\n",
    "    minio_key=secrets[\"minio\"][\"confidential\"][\"access\"],\n",
    "    minio_secret=secrets[\"minio\"][\"confidential\"][\"secret\"],\n",
    "    data_classification=minio_utils.DataClassification.CONFIDENTIAL\n",
    ")"
   ]
  },
  {
   "cell_type": "markdown",
   "metadata": {},
   "source": [
    "### Tabular Form"
   ]
  },
  {
   "cell_type": "code",
   "execution_count": null,
   "metadata": {},
   "outputs": [],
   "source": [
    "formatted_kpa_df.groupby(['Directorate', 'Department', 'PositionName']).PositionNumber.nunique().to_frame().reset_index().sort_values(\n",
    "    by=['Directorate', 'Department', 'PositionNumber'],\n",
    "    ascending=False\n",
    ").to_html('./report/hr_data_summary_table.html', index=False)"
   ]
  },
  {
   "cell_type": "markdown",
   "metadata": {},
   "source": [
    "### Plotting"
   ]
  },
  {
   "cell_type": "code",
   "execution_count": null,
   "metadata": {},
   "outputs": [],
   "source": [
    "def get_counts(data_df):\n",
    "    directorate_counts = data_df.groupby(['Directorate']).EmployeeNumber.nunique().sort_values(ascending=False)\n",
    "    department_counts = data_df.groupby(['Department']).EmployeeNumber.nunique().sort_values(ascending=False)\n",
    "    tlevel_counts = data_df.groupby(['TLevel']).EmployeeNumber.nunique()#.sort_values(ascending=False)\n",
    "    position_counts = data_df.groupby(['PositionName']).EmployeeNumber.nunique().sort_values(ascending=False)\n",
    "    \n",
    "    return directorate_counts, department_counts, tlevel_counts, position_counts"
   ]
  },
  {
   "cell_type": "code",
   "execution_count": null,
   "metadata": {},
   "outputs": [],
   "source": [
    "def generate_count_plot(count_series, x_axis_label, title, category_limit = None, ymax=None,\n",
    "                        width=400, height=600, tools=[\"save\"], colour_pallete=Category20):\n",
    "    title = f\"{title} (top {category_limit})\" if category_limit is not None else title\n",
    "    \n",
    "    category_limit = len(count_series) if category_limit is None else category_limit\n",
    "    ymax = count_series.max()*1.05 if ymax is None else ymax*1.05\n",
    "    \n",
    "    count_figure = figure(width=width, plot_height=height, title=title, \n",
    "                          x_range=count_series.index.values[:category_limit].astype(str), y_range=(0, ymax),\n",
    "                          tools=TOOLS)\n",
    "        \n",
    "    count_figure.vbar(\n",
    "        count_series.index.values[:category_limit].astype(str), top=count_series.values[:category_limit], \n",
    "        width=0.9, color=colour_pallete[category_limit]\n",
    "    )\n",
    "    count_figure.xaxis.major_label_orientation = \"vertical\"\n",
    "    count_figure.xaxis.axis_label = x_axis_label\n",
    "    \n",
    "    return count_figure"
   ]
  },
  {
   "cell_type": "code",
   "execution_count": null,
   "metadata": {},
   "outputs": [],
   "source": [
    "def generate_overview_plot(data_df, output_plot_path, width=400, height=600):\n",
    "    directorate_counts, department_counts, tlevel_counts, position_counts = get_counts(data_df)\n",
    "    \n",
    "    output_file(output_plot_path, mode=\"cdn\")\n",
    "    \n",
    "    department_figure = generate_count_plot(\n",
    "        directorate_counts, \"Directorate\", \"Directorate Breakdown\"\n",
    "    )\n",
    "    directorate_figure = generate_count_plot(\n",
    "        directorate_counts, \"Department\", \"Department Breakdown\", 15\n",
    "    )\n",
    "    tlevel_figure = generate_count_plot(\n",
    "        tlevel_counts, \"T-Level\", \"T-Level Breakdown\",\n",
    "    )\n",
    "    positions_figure = generate_count_plot(\n",
    "        position_counts, \"Positions\", \"Position Breakdown\", 15\n",
    "    )\n",
    "\n",
    "    # show the results\n",
    "    show(gridplot([\n",
    "        [tlevel_figure, positions_figure],\n",
    "        [directorate_figure, department_figure],\n",
    "    ]))"
   ]
  },
  {
   "cell_type": "code",
   "execution_count": null,
   "metadata": {},
   "outputs": [],
   "source": [
    "generate_overview_plot(formatted_kpa_df, \"report/hr_data_summary.html\")"
   ]
  },
  {
   "cell_type": "markdown",
   "metadata": {},
   "source": [
    "## Splitting out Administrative Positions"
   ]
  },
  {
   "cell_type": "markdown",
   "metadata": {},
   "source": [
    "At the request of the Data Capabilities workstream, I'm splitting out the administrative positions, which make up about 30% of the dataset."
   ]
  },
  {
   "cell_type": "code",
   "execution_count": null,
   "metadata": {},
   "outputs": [],
   "source": [
    "_, _, _, position_counts = get_counts(formatted_kpa_df)"
   ]
  },
  {
   "cell_type": "code",
   "execution_count": null,
   "metadata": {},
   "outputs": [],
   "source": [
    "position_counts.iloc[:20]"
   ]
  },
  {
   "cell_type": "code",
   "execution_count": null,
   "metadata": {},
   "outputs": [],
   "source": [
    "admin_positions = {\n",
    "    \"clerk\", \"senior clerk\", \"specialist clerk\",\n",
    "    \"assistant administrative officer\", \"administrative officer 1\", \"administrative officer 2\", \"administrative officer 3\",\n",
    "    \"secretary\", \"executive personal assistant\", \"senior secretary\"\n",
    "}"
   ]
  },
  {
   "cell_type": "code",
   "execution_count": null,
   "metadata": {},
   "outputs": [],
   "source": [
    "position_counts[\n",
    "    position_counts.index.str.lower().isin(admin_positions)\n",
    "].sum()/position_counts.sum()"
   ]
  },
  {
   "cell_type": "code",
   "execution_count": null,
   "metadata": {},
   "outputs": [],
   "source": [
    "generate_overview_plot(\n",
    "    formatted_kpa_df.query(\"PositionName.str.lower().isin(@admin_positions)\"), \n",
    "    \"report/hr_admin_data_summary.html\"\n",
    ")"
   ]
  },
  {
   "cell_type": "code",
   "execution_count": null,
   "metadata": {},
   "outputs": [],
   "source": [
    "generate_overview_plot(\n",
    "    formatted_kpa_df.query(\n",
    "        \"~(PositionName.str.lower().isin(@admin_positions))\"\n",
    "    ), \n",
    "    \"report/hr_non_admin_data_summary.html\"\n",
    ")"
   ]
  },
  {
   "cell_type": "code",
   "execution_count": null,
   "metadata": {},
   "outputs": [],
   "source": [
    "def generate_comparison_plot(data_df, output_plot_path, admin_positions, width=400, height=600):\n",
    "    admin_df = data_df.query(\n",
    "        \"(PositionName.str.lower().isin(@admin_positions))\"\n",
    "    )\n",
    "    nonadmin_df = data_df.query(\n",
    "        \"~(PositionName.str.lower().isin(@admin_positions))\"\n",
    "    )\n",
    "    \n",
    "    admin_directorate_counts, admin_department_counts, admin_tlevel_counts, admin_position_counts = get_counts(admin_df)\n",
    "    na_admin_directorate_counts, na_admin_department_counts, na_admin_tlevel_counts, na_admin_position_counts = get_counts(nonadmin_df)\n",
    "    \n",
    "    output_file(output_plot_path, mode=\"cdn\")\n",
    "    \n",
    "    figures = [\n",
    "        [\n",
    "            generate_count_plot(admin_count, count_type, f\"{count_type} Admin Breakdown\", cat_limit, ymax=max(admin_count.max(), na_admin_count.max()), \n",
    "                                width=width, height=height, colour_pallete=Category20b),\n",
    "            generate_count_plot(na_admin_count, count_type, f\"{count_type} Non-Admin Breakdown\", cat_limit, ymax=max(admin_count.max(), na_admin_count.max()), \n",
    "                                width=width, height=height, colour_pallete=Category20b)\n",
    "        ]\n",
    "        for admin_count, na_admin_count, count_type, cat_limit in\n",
    "        (\n",
    "            (admin_directorate_counts, na_admin_directorate_counts, \"Directorate\", None),\n",
    "            (admin_department_counts, na_admin_department_counts, \"Department\", 15),\n",
    "            (admin_tlevel_counts, na_admin_tlevel_counts, \"T-Level\", None),\n",
    "            (admin_position_counts, na_admin_position_counts, \"Position\", 15)\n",
    "        )\n",
    "    ]\n",
    "\n",
    "    # show the results\n",
    "    show(gridplot(\n",
    "        figures\n",
    "    ))"
   ]
  },
  {
   "cell_type": "code",
   "execution_count": null,
   "metadata": {},
   "outputs": [],
   "source": [
    "generate_comparison_plot(formatted_kpa_df, \"report/hr_admin_data_comparison.html\", admin_positions)"
   ]
  },
  {
   "cell_type": "code",
   "execution_count": null,
   "metadata": {},
   "outputs": [],
   "source": [
    "minio_utils.dataframe_to_minio(\n",
    "    formatted_kpa_df.query(\n",
    "        \"PositionName.str.lower().isin(@admin_positions))\"\n",
    "    ),\n",
    "    minio_bucket=\"hr-ipm-data-admin\",\n",
    "    minio_key=secrets[\"minio\"][\"confidential\"][\"access\"],\n",
    "    minio_secret=secrets[\"minio\"][\"confidential\"][\"secret\"],\n",
    "    data_classification=minio_utils.DataClassification.CONFIDENTIAL,\n",
    "    file_format=\"pickle.gz\"\n",
    ")"
   ]
  },
  {
   "cell_type": "code",
   "execution_count": null,
   "metadata": {},
   "outputs": [],
   "source": [
    "minio_utils.dataframe_to_minio(\n",
    "    formatted_kpa_df.query(\n",
    "        \"~(PositionName.str.lower().isin(@admin_positions))\"\n",
    "    ),\n",
    "    minio_bucket=\"hr-ipm-data-non-admin\",\n",
    "    minio_key=secrets[\"minio\"][\"confidential\"][\"access\"],\n",
    "    minio_secret=secrets[\"minio\"][\"confidential\"][\"secret\"],\n",
    "    data_classification=minio_utils.DataClassification.CONFIDENTIAL,\n",
    "    file_format=\"pickle.gz\"\n",
    ")"
   ]
  },
  {
   "cell_type": "code",
   "execution_count": null,
   "metadata": {},
   "outputs": [],
   "source": []
  }
 ],
 "metadata": {
  "kernelspec": {
   "display_name": "Python 3",
   "language": "python",
   "name": "python3"
  },
  "language_info": {
   "codemirror_mode": {
    "name": "ipython",
    "version": 3
   },
   "file_extension": ".py",
   "mimetype": "text/x-python",
   "name": "python",
   "nbconvert_exporter": "python",
   "pygments_lexer": "ipython3",
   "version": "3.6.8"
  }
 },
 "nbformat": 4,
 "nbformat_minor": 4
}
